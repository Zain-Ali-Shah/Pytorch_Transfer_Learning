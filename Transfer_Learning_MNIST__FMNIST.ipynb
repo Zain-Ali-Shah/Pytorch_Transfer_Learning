{
  "nbformat": 4,
  "nbformat_minor": 0,
  "metadata": {
    "colab": {
      "provenance": []
    },
    "kernelspec": {
      "name": "python3",
      "display_name": "Python 3"
    },
    "language_info": {
      "name": "python"
    }
  },
  "cells": [
    {
      "cell_type": "code",
      "execution_count": null,
      "metadata": {
        "id": "TsGTthHcAoAo"
      },
      "outputs": [],
      "source": [
        "import numpy as np\n",
        "\n",
        "import torch\n",
        "import torch.nn as nn\n",
        "import torch.nn.functional as F\n",
        "from torch.utils.data import DataLoader,TensorDataset\n",
        "import torchvision\n",
        "import torchvision.transforms as T\n",
        "\n",
        "from sklearn.model_selection import train_test_split\n",
        "\n",
        "import copy\n",
        "\n",
        "import matplotlib.pyplot as plt"
      ]
    },
    {
      "cell_type": "code",
      "source": [
        "### MNIST data\n",
        "\n",
        "data = np.loadtxt(open('/content/sample_data/mnist_train_small.csv','rb'),delimiter=',')\n",
        "\n",
        "labelsT   = torch.tensor( data[:,0] ).long()\n",
        "data      = data[:,1:]\n",
        "dataNorm  = data / np.max(data)\n",
        "dataNormT = torch.tensor( dataNorm.reshape(dataNorm.shape[0],1,28,28) ).float()\n",
        "\n",
        "train_data,test_data, train_labels,test_labels = train_test_split(dataNormT, labelsT, test_size=.1)\n",
        "\n",
        "train_data = TensorDataset(train_data,train_labels)\n",
        "test_data  = TensorDataset(test_data,test_labels)\n",
        "\n",
        "batchsize    = 32\n",
        "numbers_train_loader = DataLoader(train_data,batch_size=batchsize,shuffle=True,drop_last=True)\n",
        "numbers_test_loader  = DataLoader(test_data,batch_size=test_data.tensors[0].shape[0])"
      ],
      "metadata": {
        "id": "wa45hJCjA0cp"
      },
      "execution_count": null,
      "outputs": []
    },
    {
      "cell_type": "code",
      "source": [
        "### FMNIST data\n",
        "\n",
        "transform = T.Compose([ T.ToTensor(), T.Normalize(.5,.5) ])\n",
        "\n",
        "trainset = torchvision.datasets.FashionMNIST(root='./data', train=True,  download=True, transform=transform)\n",
        "testset  = torchvision.datasets.FashionMNIST(root='./data', train=False, download=True, transform=transform)\n",
        "\n",
        "batchsize    = 32\n",
        "fashion_train_loader = DataLoader(trainset,batch_size=batchsize,shuffle=True,drop_last=True)\n",
        "fashion_test_loader  = DataLoader(testset, batch_size=len(testset))"
      ],
      "metadata": {
        "colab": {
          "base_uri": "https://localhost:8080/"
        },
        "id": "avPyMvBoBIv3",
        "outputId": "d79bae49-0cda-4edf-a251-562aa2df61d8"
      },
      "execution_count": null,
      "outputs": [
        {
          "output_type": "stream",
          "name": "stdout",
          "text": [
            "Downloading http://fashion-mnist.s3-website.eu-central-1.amazonaws.com/train-images-idx3-ubyte.gz\n",
            "Downloading http://fashion-mnist.s3-website.eu-central-1.amazonaws.com/train-images-idx3-ubyte.gz to ./data/FashionMNIST/raw/train-images-idx3-ubyte.gz\n"
          ]
        },
        {
          "output_type": "stream",
          "name": "stderr",
          "text": [
            "100%|██████████| 26.4M/26.4M [00:02<00:00, 12.9MB/s]\n"
          ]
        },
        {
          "output_type": "stream",
          "name": "stdout",
          "text": [
            "Extracting ./data/FashionMNIST/raw/train-images-idx3-ubyte.gz to ./data/FashionMNIST/raw\n",
            "\n",
            "Downloading http://fashion-mnist.s3-website.eu-central-1.amazonaws.com/train-labels-idx1-ubyte.gz\n",
            "Downloading http://fashion-mnist.s3-website.eu-central-1.amazonaws.com/train-labels-idx1-ubyte.gz to ./data/FashionMNIST/raw/train-labels-idx1-ubyte.gz\n"
          ]
        },
        {
          "output_type": "stream",
          "name": "stderr",
          "text": [
            "100%|██████████| 29.5k/29.5k [00:00<00:00, 211kB/s]\n"
          ]
        },
        {
          "output_type": "stream",
          "name": "stdout",
          "text": [
            "Extracting ./data/FashionMNIST/raw/train-labels-idx1-ubyte.gz to ./data/FashionMNIST/raw\n",
            "\n",
            "Downloading http://fashion-mnist.s3-website.eu-central-1.amazonaws.com/t10k-images-idx3-ubyte.gz\n",
            "Downloading http://fashion-mnist.s3-website.eu-central-1.amazonaws.com/t10k-images-idx3-ubyte.gz to ./data/FashionMNIST/raw/t10k-images-idx3-ubyte.gz\n"
          ]
        },
        {
          "output_type": "stream",
          "name": "stderr",
          "text": [
            "100%|██████████| 4.42M/4.42M [00:01<00:00, 3.86MB/s]\n"
          ]
        },
        {
          "output_type": "stream",
          "name": "stdout",
          "text": [
            "Extracting ./data/FashionMNIST/raw/t10k-images-idx3-ubyte.gz to ./data/FashionMNIST/raw\n",
            "\n",
            "Downloading http://fashion-mnist.s3-website.eu-central-1.amazonaws.com/t10k-labels-idx1-ubyte.gz\n",
            "Downloading http://fashion-mnist.s3-website.eu-central-1.amazonaws.com/t10k-labels-idx1-ubyte.gz to ./data/FashionMNIST/raw/t10k-labels-idx1-ubyte.gz\n"
          ]
        },
        {
          "output_type": "stream",
          "name": "stderr",
          "text": [
            "100%|██████████| 5.15k/5.15k [00:00<00:00, 13.6MB/s]"
          ]
        },
        {
          "output_type": "stream",
          "name": "stdout",
          "text": [
            "Extracting ./data/FashionMNIST/raw/t10k-labels-idx1-ubyte.gz to ./data/FashionMNIST/raw\n",
            "\n"
          ]
        },
        {
          "output_type": "stream",
          "name": "stderr",
          "text": [
            "\n"
          ]
        }
      ]
    },
    {
      "cell_type": "code",
      "source": [
        "def createTheMNISTNet(printtoggle=False):\n",
        "\n",
        "  class mnistNet(nn.Module):\n",
        "    def __init__(self,printtoggle):\n",
        "      super().__init__()\n",
        "\n",
        "      self.conv1 = nn.Conv2d( 1,10,kernel_size=5,stride=1,padding=1)\n",
        "      # size: np.floor( (28+2*1-5)/1 )+1 = 26/2 = 13 (/2 b/c maxpool)\n",
        "\n",
        "      self.conv2 = nn.Conv2d(10,20,kernel_size=5,stride=1,padding=1)\n",
        "      # size: np.floor( (13+2*1-5)/1 )+1 = 11/2 = 5 (/2 b/c maxpool)\n",
        "\n",
        "      expectSize = np.floor( (5+2*0-1)/1 ) + 1\n",
        "      expectSize = 20*int(expectSize**2)\n",
        "\n",
        "      self.fc1 = nn.Linear(expectSize,50)\n",
        "      self.out = nn.Linear(50,10)\n",
        "      self.print = printtoggle\n",
        "\n",
        "    def forward(self,x):\n",
        "\n",
        "      print(f'Input: {x.shape}') if self.print else None\n",
        "\n",
        "      x = F.relu(F.max_pool2d(self.conv1(x),2))\n",
        "      print(f'Layer conv1: {x.shape}') if self.print else None\n",
        "\n",
        "      x = F.relu(F.max_pool2d(self.conv2(x),2))\n",
        "      print(f'Layer conv2: {x.shape}') if self.print else None\n",
        "\n",
        "      nUnits = x.shape.numel()/x.shape[0]\n",
        "      x = x.view(-1,int(nUnits))\n",
        "      if self.print: print(f'Vectorize: {x.shape}')\n",
        "\n",
        "      x = F.relu(self.fc1(x))\n",
        "      if self.print: print(f'Layer fc1: {x.shape}')\n",
        "      x = self.out(x)\n",
        "      if self.print: print(f'Layer out: {x.shape}')\n",
        "\n",
        "      return x\n",
        "\n",
        "  net = mnistNet(printtoggle)\n",
        "\n",
        "  lossfun = nn.CrossEntropyLoss()\n",
        "\n",
        "  optimizer = torch.optim.SGD(net.parameters(),lr=.005)\n",
        "\n",
        "  return net,lossfun,optimizer"
      ],
      "metadata": {
        "id": "vhO7ngFgBbRO"
      },
      "execution_count": null,
      "outputs": []
    },
    {
      "cell_type": "code",
      "source": [
        "def function2trainTheModel(net,train_loader,test_loader,numepochs=10):\n",
        "\n",
        "  losses    = torch.zeros(numepochs)\n",
        "  trainAcc  = []\n",
        "  testAcc   = []\n",
        "\n",
        "  for epochi in range(numepochs):\n",
        "\n",
        "    net.train()\n",
        "    batchAcc  = []\n",
        "    batchLoss = []\n",
        "    for X,y in train_loader:\n",
        "\n",
        "      yHat = net(X)\n",
        "      loss = lossfun(yHat,y)\n",
        "\n",
        "      optimizer.zero_grad()\n",
        "      loss.backward()\n",
        "      optimizer.step()\n",
        "\n",
        "      batchLoss.append(loss.item())\n",
        "\n",
        "      matches = torch.argmax(yHat,axis=1) == y\n",
        "      matchesNumeric = matches.float()\n",
        "      accuracyPct = 100*torch.mean(matchesNumeric)\n",
        "      batchAcc.append( accuracyPct )\n",
        "\n",
        "    trainAcc.append( np.mean(batchAcc) )\n",
        "\n",
        "    losses[epochi] = np.mean(batchLoss)\n",
        "\n",
        "    net.eval()\n",
        "    X,y = next(iter(test_loader))\n",
        "    with torch.no_grad():\n",
        "      yHat = net(X)\n",
        "\n",
        "    testAcc.append( 100*torch.mean((torch.argmax(yHat,axis=1)==y).float()) )\n",
        "\n",
        "  return trainAcc,testAcc,losses,net"
      ],
      "metadata": {
        "id": "GWp3DORTDpSf"
      },
      "execution_count": null,
      "outputs": []
    },
    {
      "cell_type": "code",
      "source": [
        "numberNet,lossfun,optimizer = createTheMNISTNet()\n",
        "\n",
        "trainAcc,testAcc,losses,numberNet = function2trainTheModel(numberNet,numbers_train_loader,numbers_test_loader,5)"
      ],
      "metadata": {
        "id": "2NZSg-uuESoO"
      },
      "execution_count": null,
      "outputs": []
    },
    {
      "cell_type": "code",
      "source": [
        "fig,ax = plt.subplots(1,2,figsize=(16,5))\n",
        "\n",
        "ax[0].plot(losses,'s-')\n",
        "ax[0].set_xlabel('Epochs')\n",
        "ax[0].set_ylabel('Loss')\n",
        "ax[0].set_title('Model loss')\n",
        "\n",
        "ax[1].plot(trainAcc,'s-',label='Train')\n",
        "ax[1].plot(testAcc,'o-',label='Test')\n",
        "ax[1].set_xlabel('Epochs')\n",
        "ax[1].set_ylabel('Accuracy (%)')\n",
        "ax[1].set_title(f'Final model test accuracy: {testAcc[-1]:.2f}%')\n",
        "ax[1].legend()\n",
        "\n",
        "plt.show()"
      ],
      "metadata": {
        "colab": {
          "base_uri": "https://localhost:8080/",
          "height": 303
        },
        "id": "KjZfAZnVE4cP",
        "outputId": "dd9c06c9-79ec-49f0-dd9a-5e77c6bcde9b"
      },
      "execution_count": null,
      "outputs": [
        {
          "output_type": "display_data",
          "data": {
            "text/plain": [
              "<Figure size 1600x500 with 2 Axes>"
            ],
            "image/png": "[encoded data removed]"
          },
          "metadata": {}
        }
      ]
    },
    {
      "cell_type": "code",
      "source": [
        "X,y = next(iter(fashion_test_loader))\n",
        "yHat = numberNet(X)\n",
        "\n",
        "fashionAcc = 100*torch.mean((torch.argmax(yHat,axis=1)==y).float())\n",
        "print(f'NUMBERNET performance on FASHION data: {fashionAcc:.2f}%')"
      ],
      "metadata": {
        "colab": {
          "base_uri": "https://localhost:8080/"
        },
        "id": "edIYeD4CE_IA",
        "outputId": "acf2f572-4004-41e4-89a5-8fc6c841eb33"
      },
      "execution_count": null,
      "outputs": [
        {
          "output_type": "stream",
          "name": "stdout",
          "text": [
            "NUMBERNET performance on FASHION data: 5.79%\n"
          ]
        }
      ]
    },
    {
      "cell_type": "code",
      "source": [
        "fashionNet,lossfun,optimizer = createTheMNISTNet()\n",
        "print( fashionNet.conv1.weight[0] - numberNet.conv1.weight[0] )\n",
        "\n",
        "# then replace all the weights in TARGET model from SOURCE model\n",
        "for target,source in zip(fashionNet.named_parameters(),numberNet.named_parameters()):\n",
        "  target[1].data = copy.deepcopy( source[1].data )\n",
        "\n",
        "print( fashionNet.conv1.weight[0] - numberNet.conv1.weight[0] )"
      ],
      "metadata": {
        "colab": {
          "base_uri": "https://localhost:8080/"
        },
        "id": "nR__s7oCFabP",
        "outputId": "651ac8d2-5abb-40a6-adab-04f2c3f2c36d"
      },
      "execution_count": null,
      "outputs": [
        {
          "output_type": "stream",
          "name": "stdout",
          "text": [
            "tensor([[[-0.0381, -0.0152, -0.1075,  0.2875, -0.0169],\n",
            "         [ 0.1274, -0.1164,  0.1656,  0.0144, -0.1149],\n",
            "         [-0.0835,  0.0733,  0.2244, -0.0561, -0.1064],\n",
            "         [ 0.0968,  0.3437, -0.0550, -0.1415,  0.0366],\n",
            "         [ 0.0987,  0.0248, -0.1879,  0.1550, -0.2809]]],\n",
            "       grad_fn=<SubBackward0>)\n",
            "tensor([[[0., 0., 0., 0., 0.],\n",
            "         [0., 0., 0., 0., 0.],\n",
            "         [0., 0., 0., 0., 0.],\n",
            "         [0., 0., 0., 0., 0.],\n",
            "         [0., 0., 0., 0., 0.]]], grad_fn=<SubBackward0>)\n"
          ]
        }
      ]
    },
    {
      "cell_type": "code",
      "source": [
        "trainAcc,testAcc,losses,fashionNet = function2trainTheModel(\n",
        "                                         fashionNet,fashion_train_loader,fashion_test_loader,1)"
      ],
      "metadata": {
        "id": "k5XHDMhKFwNb"
      },
      "execution_count": null,
      "outputs": []
    },
    {
      "cell_type": "code",
      "source": [
        "print(f'numberNet TRAIN accuracy: {trainAcc[-1]:.2f}%')\n",
        "print(f'numberNet TEST accuracy: {testAcc[-1]:.2f}%')"
      ],
      "metadata": {
        "colab": {
          "base_uri": "https://localhost:8080/"
        },
        "id": "lKU-vFGhF3KF",
        "outputId": "af0034f0-5947-49e0-ede2-98ae02062b92"
      },
      "execution_count": null,
      "outputs": [
        {
          "output_type": "stream",
          "name": "stdout",
          "text": [
            "numberNet TRAIN accuracy: 67.12%\n",
            "numberNet TEST accuracy: 74.70%\n"
          ]
        }
      ]
    },
    {
      "cell_type": "code",
      "source": [],
      "metadata": {
        "id": "xYJ3ZsmLGBbR"
      },
      "execution_count": null,
      "outputs": []
    }
  ]
}